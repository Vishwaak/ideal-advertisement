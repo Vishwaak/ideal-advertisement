{
 "cells": [
  {
   "cell_type": "code",
   "execution_count": 21,
   "id": "037eebf9",
   "metadata": {},
   "outputs": [],
   "source": [
    "import pandas as pd\n",
    "\n",
    "from twelvelabs import TwelveLabs\n",
    "from twelvelabs.types import VideoSegment\n",
    "from twelvelabs.embed import TasksStatusResponse\n",
    "\n",
    "from twelvelabs.indexes import IndexesCreateRequestModelsItem\n",
    "from twelvelabs.tasks import TasksRetrieveResponse"
   ]
  },
  {
   "cell_type": "code",
   "execution_count": 22,
   "id": "37d31a2b",
   "metadata": {},
   "outputs": [],
   "source": [
    "TL_API_KEY = \"tlk_3R75W163CAEGN82XBJB8P1VYS6XB\""
   ]
  },
  {
   "cell_type": "code",
   "execution_count": 23,
   "id": "a1db9a05",
   "metadata": {},
   "outputs": [],
   "source": [
    "client = TwelveLabs(api_key=TL_API_KEY)"
   ]
  },
  {
   "cell_type": "code",
   "execution_count": 24,
   "id": "f3d2aa6e",
   "metadata": {},
   "outputs": [],
   "source": [
    "index = client.indexes.retrieve(index_id=\"68e16c4864ff05606e152396\")"
   ]
  },
  {
   "cell_type": "code",
   "execution_count": 44,
   "id": "1f1290ac",
   "metadata": {},
   "outputs": [],
   "source": [
    "import requests\n",
    "\n",
    "url = \"https://api.twelvelabs.io/v1.3/tasks\"\n",
    "\n",
    "files = { \"video_file\": open('goal2-gk0xusut_YK88uF39.mp4', 'rb') }"
   ]
  },
  {
   "cell_type": "code",
   "execution_count": 45,
   "id": "614fc60d",
   "metadata": {},
   "outputs": [],
   "source": [
    "payload = {\n",
    "    \"index_id\": \"68e16c4864ff05606e152396\",\n",
    "}\n",
    "headers = {\"x-api-key\": TL_API_KEY}"
   ]
  },
  {
   "cell_type": "code",
   "execution_count": 46,
   "id": "e56d831b",
   "metadata": {},
   "outputs": [
    {
     "name": "stdout",
     "output_type": "stream",
     "text": [
      "{'_id': '68e17b1a17b39f617835d2d4', 'video_id': '68e17b1a17b39f617835d2d4'}\n"
     ]
    }
   ],
   "source": [
    "response = requests.post(url, data=payload, files=files, headers=headers)\n",
    "\n",
    "print(response.json())"
   ]
  },
  {
   "cell_type": "code",
   "execution_count": 47,
   "id": "0c60b52f",
   "metadata": {},
   "outputs": [],
   "source": [
    "result = client.gist(\n",
    "    video_id=\"68e17b1a17b39f617835d2d4\",\n",
    "    types=[\"title\", \"topic\", \"hashtag\"]\n",
    ")"
   ]
  },
  {
   "cell_type": "code",
   "execution_count": 48,
   "id": "0659ff73",
   "metadata": {},
   "outputs": [
    {
     "name": "stdout",
     "output_type": "stream",
     "text": [
      "Result ID: f29a13b2-e1cc-43c3-bc40-a8d990cb05e0\n",
      "Title: Number 7's Goal: A Celebratory Moment on the Soccer Field\n",
      "Topics:\n",
      "  - Soccer Game Highlights\n",
      "Hashtags:\n",
      "  - Soccer\n",
      "  - Goal\n",
      "  - Teamwork\n",
      "  - Celebration\n",
      "  - Uniforms\n",
      "Output tokens: 30\n"
     ]
    }
   ],
   "source": [
    "print(\"Result ID:\", result.id)\n",
    "\n",
    "if result.title is not None:\n",
    "    print(\"Title:\", result.title)\n",
    "\n",
    "if result.topics is not None:\n",
    "    print(\"Topics:\")\n",
    "    for topic in result.topics:\n",
    "        print(f\"  - {topic}\")\n",
    "\n",
    "if result.hashtags is not None:\n",
    "    print(\"Hashtags:\")\n",
    "    for hashtag in result.hashtags:\n",
    "        print(f\"  - {hashtag}\")\n",
    "\n",
    "if result.usage is not None:\n",
    "    print(f\"Output tokens: {result.usage.output_tokens}\")\n"
   ]
  },
  {
   "cell_type": "code",
   "execution_count": 50,
   "id": "72e6fb2c",
   "metadata": {},
   "outputs": [
    {
     "name": "stdout",
     "output_type": "stream",
     "text": [
      "Stream started\n",
      "The video can be broken down into two main events:\n",
      "\n",
      "1. **Goal Scoring Event (0s (00:00) - 3s (00:03)):** Early in the video, a soccer player in a blue uniform takes a shot at the goal. The ball travels towards the net, and despite the goalkeeper's attempt to block it, the ball hits the back of the net, indicating a successful goal.\n",
      "\n",
      "2. **Celebration Event (3s (00:03) - 8s (00:08)):** Immediately after scoring, the player who took the shot begins to celebrate by running along the sideline, raising his arms in triumph. The camera follows him closely, capturing his excitement. The crowd in the background can be seen cheering, adding to the celebratory atmosphere.\n",
      "Stream ended\n",
      "Metadata: generation_id='96fd28d8-b18d-4618-9fb3-6814c39e866c' usage=TokenUsage(output_tokens=170)\n"
     ]
    }
   ],
   "source": [
    "from twelvelabs import TwelveLabs\n",
    "\n",
    "response = client.analyze_stream(\n",
    "    video_id=\"68e17b1a17b39f617835d2d4\",\n",
    "    prompt=\"Break down the video by main event and timestamp\",\n",
    "    temperature=0.2\n",
    ")\n",
    "\n",
    "for chunk in response:\n",
    "    if hasattr(chunk, 'event_type'):\n",
    "        if chunk.event_type == \"stream_start\":\n",
    "            print(\"Stream started\")\n",
    "        elif chunk.event_type == \"text_generation\":\n",
    "            print(chunk.text, end=\"\")\n",
    "        elif chunk.event_type == \"stream_end\":\n",
    "            print(\"\\nStream ended\")\n",
    "            if chunk.metadata:\n",
    "                print(f\"Metadata: {chunk.metadata}\")\n"
   ]
  }
 ],
 "metadata": {
  "kernelspec": {
   "display_name": "myenv",
   "language": "python",
   "name": "python3"
  },
  "language_info": {
   "codemirror_mode": {
    "name": "ipython",
    "version": 3
   },
   "file_extension": ".py",
   "mimetype": "text/x-python",
   "name": "python",
   "nbconvert_exporter": "python",
   "pygments_lexer": "ipython3",
   "version": "3.9.23"
  }
 },
 "nbformat": 4,
 "nbformat_minor": 5
}
